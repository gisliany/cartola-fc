{
 "cells": [
  {
   "cell_type": "markdown",
   "metadata": {
    "colab_type": "text",
    "id": "nw9uUVXHg1yR"
   },
   "source": [
    "# KMeans, clusterização e decision tree dos dados do Cartola FC\n",
    "Por: [Gisliany Alves](https://github.com/gisliany), [Jusciaane Chacon](https://github.com/jusciaane) e [Marianne Diniz](https://github.com/MarianneDiniz)"
   ]
  },
  {
   "cell_type": "markdown",
   "metadata": {
    "colab_type": "text",
    "id": "SVzWvLz2yyKm"
   },
   "source": [
    "## 1. Introdução aos dados\n",
    "\n",
    "Os dados utilizados neste trabalho vem do repositório [caRtola](https://github.com/henriquepgomide/caRtola) no GitHub, que contém todos os dados do Cartola FC desde 2014. Para montar o dataset foram utilizados apenas os dados de todas as rodadas disponíveis de 2018. Os arquivos `rodada-i.csv`, onde $i$ representa o número da rodada, foram concatenados formando dataset `rodadas2018`, conforme o código a seguir."
   ]
  },
  {
   "cell_type": "code",
   "execution_count": 2,
   "metadata": {
    "colab": {
     "base_uri": "https://localhost:8080/",
     "height": 34
    },
    "colab_type": "code",
    "id": "WgzldOJ0e9tb",
    "outputId": "84581e1c-0b0a-49c8-f9fe-aa000cebbaa1"
   },
   "outputs": [
    {
     "name": "stderr",
     "output_type": "stream",
     "text": [
      "/home/gisliany/anaconda3/lib/python3.6/site-packages/ipykernel_launcher.py:9: FutureWarning: Sorting because non-concatenation axis is not aligned. A future version\n",
      "of pandas will change to not sort by default.\n",
      "\n",
      "To accept the future behavior, pass 'sort=True'.\n",
      "\n",
      "To retain the current behavior and silence the warning, pass sort=False\n",
      "\n",
      "  if __name__ == '__main__':\n"
     ]
    },
    {
     "data": {
      "text/plain": [
       "(25057, 32)"
      ]
     },
     "execution_count": 2,
     "metadata": {},
     "output_type": "execute_result"
    }
   ],
   "source": [
    "# import e concatenação dos datasets das rodadas de 2018\n",
    "\n",
    "import pandas as pd\n",
    "\n",
    "rodadas = []\n",
    "for i in range(1, 32):\n",
    "  rodadas.append(pd.read_csv('rodada-' + str(i) + '.csv', index_col=0))\n",
    "\n",
    "rodadas2018 = pd.concat(rodadas)\n",
    "rodadas2018 = rodadas2018[rodadas[10].columns] # preserve column order\n",
    "rodadas2018.shape"
   ]
  },
  {
   "cell_type": "markdown",
   "metadata": {
    "colab_type": "text",
    "id": "BYc6oReWea_u"
   },
   "source": [
    "Cada linha representa o desempenho de um atleta em uma dada rodada. Existem 32 atributos listados em cada linha, cujo significado é mostrado na tabela 1."
   ]
  },
  {
   "cell_type": "code",
   "execution_count": 3,
   "metadata": {
    "colab": {
     "base_uri": "https://localhost:8080/",
     "height": 355
    },
    "colab_type": "code",
    "id": "CkS_OaQ8mVDR",
    "outputId": "04c615eb-3e0a-4acb-ffeb-0c2e159c86e1"
   },
   "outputs": [
    {
     "data": {
      "text/html": [
       "<div>\n",
       "<style scoped>\n",
       "    .dataframe tbody tr th:only-of-type {\n",
       "        vertical-align: middle;\n",
       "    }\n",
       "\n",
       "    .dataframe tbody tr th {\n",
       "        vertical-align: top;\n",
       "    }\n",
       "\n",
       "    .dataframe thead th {\n",
       "        text-align: right;\n",
       "    }\n",
       "</style>\n",
       "<table border=\"1\" class=\"dataframe\">\n",
       "  <thead>\n",
       "    <tr style=\"text-align: right;\">\n",
       "      <th></th>\n",
       "      <th>atletas.nome</th>\n",
       "      <th>atletas.slug</th>\n",
       "      <th>atletas.apelido</th>\n",
       "      <th>atletas.foto</th>\n",
       "      <th>atletas.atleta_id</th>\n",
       "      <th>atletas.rodada_id</th>\n",
       "      <th>atletas.clube_id</th>\n",
       "      <th>atletas.posicao_id</th>\n",
       "      <th>atletas.status_id</th>\n",
       "      <th>atletas.pontos_num</th>\n",
       "      <th>...</th>\n",
       "      <th>G</th>\n",
       "      <th>CV</th>\n",
       "      <th>A</th>\n",
       "      <th>I</th>\n",
       "      <th>DD</th>\n",
       "      <th>GS</th>\n",
       "      <th>FT</th>\n",
       "      <th>GC</th>\n",
       "      <th>PP</th>\n",
       "      <th>DP</th>\n",
       "    </tr>\n",
       "  </thead>\n",
       "  <tbody>\n",
       "    <tr>\n",
       "      <th>1</th>\n",
       "      <td>Matheus Ferraz Pereira</td>\n",
       "      <td>matheus-ferraz</td>\n",
       "      <td>Matheus Ferraz</td>\n",
       "      <td>https://s.glbimg.com/es/sde/f/2018/03/17/6d461...</td>\n",
       "      <td>38632</td>\n",
       "      <td>1</td>\n",
       "      <td>AME</td>\n",
       "      <td>zag</td>\n",
       "      <td>Nulo</td>\n",
       "      <td>0.0</td>\n",
       "      <td>...</td>\n",
       "      <td>NaN</td>\n",
       "      <td>NaN</td>\n",
       "      <td>NaN</td>\n",
       "      <td>NaN</td>\n",
       "      <td>NaN</td>\n",
       "      <td>NaN</td>\n",
       "      <td>NaN</td>\n",
       "      <td>NaN</td>\n",
       "      <td>NaN</td>\n",
       "      <td>NaN</td>\n",
       "    </tr>\n",
       "    <tr>\n",
       "      <th>2</th>\n",
       "      <td>Willian Lanes de Lima</td>\n",
       "      <td>lima</td>\n",
       "      <td>Lima</td>\n",
       "      <td>https://s.glbimg.com/es/sde/f/2018/03/17/3d9ef...</td>\n",
       "      <td>38506</td>\n",
       "      <td>1</td>\n",
       "      <td>AME</td>\n",
       "      <td>zag</td>\n",
       "      <td>Nulo</td>\n",
       "      <td>0.0</td>\n",
       "      <td>...</td>\n",
       "      <td>NaN</td>\n",
       "      <td>NaN</td>\n",
       "      <td>NaN</td>\n",
       "      <td>NaN</td>\n",
       "      <td>NaN</td>\n",
       "      <td>NaN</td>\n",
       "      <td>NaN</td>\n",
       "      <td>NaN</td>\n",
       "      <td>NaN</td>\n",
       "      <td>NaN</td>\n",
       "    </tr>\n",
       "    <tr>\n",
       "      <th>3</th>\n",
       "      <td>Rómulo Otero Vásquez</td>\n",
       "      <td>otero</td>\n",
       "      <td>Otero</td>\n",
       "      <td>https://s.glbimg.com/es/sde/f/2017/04/03/9fe40...</td>\n",
       "      <td>83004</td>\n",
       "      <td>1</td>\n",
       "      <td>ATL</td>\n",
       "      <td>mei</td>\n",
       "      <td>Provável</td>\n",
       "      <td>16.5</td>\n",
       "      <td>...</td>\n",
       "      <td>1.0</td>\n",
       "      <td>NaN</td>\n",
       "      <td>NaN</td>\n",
       "      <td>1.0</td>\n",
       "      <td>NaN</td>\n",
       "      <td>NaN</td>\n",
       "      <td>NaN</td>\n",
       "      <td>NaN</td>\n",
       "      <td>NaN</td>\n",
       "      <td>NaN</td>\n",
       "    </tr>\n",
       "    <tr>\n",
       "      <th>4</th>\n",
       "      <td>Diego Ribas da Cunha</td>\n",
       "      <td>diego</td>\n",
       "      <td>Diego</td>\n",
       "      <td>https://s.glbimg.com/es/sde/f/2017/08/16/3ba37...</td>\n",
       "      <td>38909</td>\n",
       "      <td>1</td>\n",
       "      <td>FLA</td>\n",
       "      <td>mei</td>\n",
       "      <td>Provável</td>\n",
       "      <td>0.8</td>\n",
       "      <td>...</td>\n",
       "      <td>NaN</td>\n",
       "      <td>NaN</td>\n",
       "      <td>NaN</td>\n",
       "      <td>1.0</td>\n",
       "      <td>NaN</td>\n",
       "      <td>NaN</td>\n",
       "      <td>NaN</td>\n",
       "      <td>NaN</td>\n",
       "      <td>NaN</td>\n",
       "      <td>NaN</td>\n",
       "    </tr>\n",
       "    <tr>\n",
       "      <th>5</th>\n",
       "      <td>Rodrigo Eduardo Costa Marinho</td>\n",
       "      <td>rodriguinho</td>\n",
       "      <td>Rodriguinho</td>\n",
       "      <td>https://s.glbimg.com/es/sde/f/2018/03/20/c125f...</td>\n",
       "      <td>61033</td>\n",
       "      <td>1</td>\n",
       "      <td>COR</td>\n",
       "      <td>mei</td>\n",
       "      <td>Provável</td>\n",
       "      <td>16.5</td>\n",
       "      <td>...</td>\n",
       "      <td>2.0</td>\n",
       "      <td>NaN</td>\n",
       "      <td>NaN</td>\n",
       "      <td>NaN</td>\n",
       "      <td>NaN</td>\n",
       "      <td>NaN</td>\n",
       "      <td>NaN</td>\n",
       "      <td>NaN</td>\n",
       "      <td>NaN</td>\n",
       "      <td>NaN</td>\n",
       "    </tr>\n",
       "  </tbody>\n",
       "</table>\n",
       "<p>5 rows × 32 columns</p>\n",
       "</div>"
      ],
      "text/plain": [
       "                    atletas.nome    atletas.slug atletas.apelido  \\\n",
       "1         Matheus Ferraz Pereira  matheus-ferraz  Matheus Ferraz   \n",
       "2          Willian Lanes de Lima            lima            Lima   \n",
       "3           Rómulo Otero Vásquez           otero           Otero   \n",
       "4           Diego Ribas da Cunha           diego           Diego   \n",
       "5  Rodrigo Eduardo Costa Marinho     rodriguinho     Rodriguinho   \n",
       "\n",
       "                                        atletas.foto  atletas.atleta_id  \\\n",
       "1  https://s.glbimg.com/es/sde/f/2018/03/17/6d461...              38632   \n",
       "2  https://s.glbimg.com/es/sde/f/2018/03/17/3d9ef...              38506   \n",
       "3  https://s.glbimg.com/es/sde/f/2017/04/03/9fe40...              83004   \n",
       "4  https://s.glbimg.com/es/sde/f/2017/08/16/3ba37...              38909   \n",
       "5  https://s.glbimg.com/es/sde/f/2018/03/20/c125f...              61033   \n",
       "\n",
       "   atletas.rodada_id atletas.clube_id atletas.posicao_id atletas.status_id  \\\n",
       "1                  1              AME                zag              Nulo   \n",
       "2                  1              AME                zag              Nulo   \n",
       "3                  1              ATL                mei          Provável   \n",
       "4                  1              FLA                mei          Provável   \n",
       "5                  1              COR                mei          Provável   \n",
       "\n",
       "   atletas.pontos_num ...    G  CV   A    I  DD  GS  FT  GC  PP  DP  \n",
       "1                 0.0 ...  NaN NaN NaN  NaN NaN NaN NaN NaN NaN NaN  \n",
       "2                 0.0 ...  NaN NaN NaN  NaN NaN NaN NaN NaN NaN NaN  \n",
       "3                16.5 ...  1.0 NaN NaN  1.0 NaN NaN NaN NaN NaN NaN  \n",
       "4                 0.8 ...  NaN NaN NaN  1.0 NaN NaN NaN NaN NaN NaN  \n",
       "5                16.5 ...  2.0 NaN NaN  NaN NaN NaN NaN NaN NaN NaN  \n",
       "\n",
       "[5 rows x 32 columns]"
      ]
     },
     "execution_count": 3,
     "metadata": {},
     "output_type": "execute_result"
    }
   ],
   "source": [
    "rodadas2018.head()"
   ]
  },
  {
   "cell_type": "code",
   "execution_count": 4,
   "metadata": {
    "colab": {
     "base_uri": "https://localhost:8080/",
     "height": 136
    },
    "colab_type": "code",
    "id": "Kx-qJ_mtcDMT",
    "outputId": "14b58d8d-f6b9-4019-f1ac-9c286a61c44c"
   },
   "outputs": [
    {
     "data": {
      "text/plain": [
       "Index(['atletas.nome', 'atletas.slug', 'atletas.apelido', 'atletas.foto',\n",
       "       'atletas.atleta_id', 'atletas.rodada_id', 'atletas.clube_id',\n",
       "       'atletas.posicao_id', 'atletas.status_id', 'atletas.pontos_num',\n",
       "       'atletas.preco_num', 'atletas.variacao_num', 'atletas.media_num',\n",
       "       'atletas.clube.id.full.name', 'FF', 'FS', 'PE', 'RB', 'SG', 'CA', 'FC',\n",
       "       'FD', 'G', 'CV', 'A', 'I', 'DD', 'GS', 'FT', 'GC', 'PP', 'DP'],\n",
       "      dtype='object')"
      ]
     },
     "execution_count": 4,
     "metadata": {},
     "output_type": "execute_result"
    }
   ],
   "source": [
    "rodadas2018.columns"
   ]
  },
  {
   "cell_type": "markdown",
   "metadata": {
    "colab_type": "text",
    "id": "SXHqt_lne7Gq"
   },
   "source": [
    "<center>**Tabela 1** </center>\n",
    "\n",
    "| coluna          | descrição                                                \n",
    "|-----------------|-----------------------------------------------------------|\n",
    "| atleta.nome          | nome do atleta\n",
    "| atleta.slug          | slug do atleta\n",
    "| atleta.apelido         | apelido do jogador\n",
    "| atleta.foto         | foto do jogador\n",
    "| atleta.atleta_id        | id do jogador\n",
    "| atleta.rodada_id        | id da rodada em que o jogador está participando\n",
    "| atleta.clube_id        | id do clube do jogador\n",
    "| atleta.posicao_id      | posição do jogador (gol:goleiro, zag:zagueiro, lat:lateral, mei:meia, ata:atacante, tec:técnico)\n",
    "| atleta.status_id           | status do jogador (Provável, Suspenso, Nulo) \n",
    "| atleta.pontos_num          | pontuação do jogador                                      |\n",
    "| atleta.preco_num           | preço do jogador                                          |\n",
    "| atleta.variacao_num   | variação de preço                                         |\n",
    "| atleta.media_num   | média de pontuação do jogador                                         |\n",
    "| atletas.clube.id.full.name   | nome do clube do jogador                                        |\n",
    "| FC              | faltas cometidas                                          |\n",
    "| FD              | finalizações defendidas                                   |\n",
    "| FF              | finalizações para fora                                    |\n",
    "| FS              | faltas sofridas                                           |\n",
    "| G               | gols                                                      |\n",
    "| I               | impedimentos                                              |\n",
    "| RB              | roubadas de bola                                          |\n",
    "| CA              | cartões amarelo                                           |\n",
    "| PE              | passes errados                                            |\n",
    "| A               | assistências                                              |\n",
    "| SG              | jogos sem sofrer gols                                     |\n",
    "| DD              | defesas difíceis                                          |\n",
    "| FT              | finalizações na trave                                     |\n",
    "| GS              | gols sofridos                                             |\n",
    "| CV              | cartões vermelho                                          |\n",
    "| GC              | gols contra                                               |\n",
    "| PP              | pênaltis perdidos                                               |\n",
    "| DP              | defesas de pênalti                                               |"
   ]
  },
  {
   "cell_type": "markdown",
   "metadata": {
    "colab_type": "text",
    "id": "HlMGrnNn_RBZ"
   },
   "source": [
    "O método `info()` é útil para termos uma breve descrição dos dados. Particularmente, obtém-se o número total de linhas e o tipo e número de valores não-nulos de cada atributo."
   ]
  },
  {
   "cell_type": "code",
   "execution_count": 5,
   "metadata": {
    "colab": {
     "base_uri": "https://localhost:8080/",
     "height": 646
    },
    "colab_type": "code",
    "id": "Q0fuLHxhl65v",
    "outputId": "43a6fbef-a516-4ca3-bd46-0b66908e0da0"
   },
   "outputs": [
    {
     "name": "stdout",
     "output_type": "stream",
     "text": [
      "<class 'pandas.core.frame.DataFrame'>\n",
      "Int64Index: 25057 entries, 1 to 841\n",
      "Data columns (total 32 columns):\n",
      "atletas.nome                  25057 non-null object\n",
      "atletas.slug                  25057 non-null object\n",
      "atletas.apelido               25057 non-null object\n",
      "atletas.foto                  24025 non-null object\n",
      "atletas.atleta_id             25057 non-null int64\n",
      "atletas.rodada_id             25057 non-null int64\n",
      "atletas.clube_id              25057 non-null object\n",
      "atletas.posicao_id            25057 non-null object\n",
      "atletas.status_id             25057 non-null object\n",
      "atletas.pontos_num            25057 non-null float64\n",
      "atletas.preco_num             25057 non-null float64\n",
      "atletas.variacao_num          25057 non-null float64\n",
      "atletas.media_num             25057 non-null float64\n",
      "atletas.clube.id.full.name    25057 non-null object\n",
      "FF                            10471 non-null float64\n",
      "FS                            13705 non-null float64\n",
      "PE                            14524 non-null float64\n",
      "RB                            13263 non-null float64\n",
      "SG                            5004 non-null float64\n",
      "CA                            9294 non-null float64\n",
      "FC                            13669 non-null float64\n",
      "FD                            8592 non-null float64\n",
      "G                             4832 non-null float64\n",
      "CV                            1065 non-null float64\n",
      "A                             4212 non-null float64\n",
      "I                             5543 non-null float64\n",
      "DD                            1052 non-null float64\n",
      "GS                            1115 non-null float64\n",
      "FT                            1963 non-null float64\n",
      "GC                            340 non-null float64\n",
      "PP                            228 non-null float64\n",
      "DP                            188 non-null float64\n",
      "dtypes: float64(22), int64(2), object(8)\n",
      "memory usage: 6.3+ MB\n"
     ]
    }
   ],
   "source": [
    "rodadas2018.info()"
   ]
  },
  {
   "cell_type": "markdown",
   "metadata": {
    "colab_type": "text",
    "id": "uj20lc3cbiwF"
   },
   "source": [
    "Conforme se pode observar, muitos dos atributos contém valores nulos. A quantidade específica é mostrada na célula a seguir. Esse problema será tratado em uma seção posterior."
   ]
  },
  {
   "cell_type": "code",
   "execution_count": 6,
   "metadata": {
    "colab": {
     "base_uri": "https://localhost:8080/",
     "height": 578
    },
    "colab_type": "code",
    "id": "tDztB1mezVZ8",
    "outputId": "3a90abb8-d757-4b54-8d42-8b38814cd590"
   },
   "outputs": [
    {
     "data": {
      "text/plain": [
       "atletas.nome                      0\n",
       "atletas.slug                      0\n",
       "atletas.apelido                   0\n",
       "atletas.foto                   1032\n",
       "atletas.atleta_id                 0\n",
       "atletas.rodada_id                 0\n",
       "atletas.clube_id                  0\n",
       "atletas.posicao_id                0\n",
       "atletas.status_id                 0\n",
       "atletas.pontos_num                0\n",
       "atletas.preco_num                 0\n",
       "atletas.variacao_num              0\n",
       "atletas.media_num                 0\n",
       "atletas.clube.id.full.name        0\n",
       "FF                            14586\n",
       "FS                            11352\n",
       "PE                            10533\n",
       "RB                            11794\n",
       "SG                            20053\n",
       "CA                            15763\n",
       "FC                            11388\n",
       "FD                            16465\n",
       "G                             20225\n",
       "CV                            23992\n",
       "A                             20845\n",
       "I                             19514\n",
       "DD                            24005\n",
       "GS                            23942\n",
       "FT                            23094\n",
       "GC                            24717\n",
       "PP                            24829\n",
       "DP                            24869\n",
       "dtype: int64"
      ]
     },
     "execution_count": 6,
     "metadata": {},
     "output_type": "execute_result"
    }
   ],
   "source": [
    "rodadas2018.isnull().sum()"
   ]
  },
  {
   "cell_type": "markdown",
   "metadata": {
    "colab_type": "text",
    "id": "FgMRaJnRbp5U"
   },
   "source": [
    "O método describe() mostra um resumo estatístico dos atributos numéricos."
   ]
  },
  {
   "cell_type": "code",
   "execution_count": 7,
   "metadata": {
    "colab": {
     "base_uri": "https://localhost:8080/",
     "height": 346
    },
    "colab_type": "code",
    "id": "reTgm8B5njkF",
    "outputId": "faa7a5e9-bd79-4ebf-eabb-4f03e8b87592"
   },
   "outputs": [
    {
     "data": {
      "text/html": [
       "<div>\n",
       "<style scoped>\n",
       "    .dataframe tbody tr th:only-of-type {\n",
       "        vertical-align: middle;\n",
       "    }\n",
       "\n",
       "    .dataframe tbody tr th {\n",
       "        vertical-align: top;\n",
       "    }\n",
       "\n",
       "    .dataframe thead th {\n",
       "        text-align: right;\n",
       "    }\n",
       "</style>\n",
       "<table border=\"1\" class=\"dataframe\">\n",
       "  <thead>\n",
       "    <tr style=\"text-align: right;\">\n",
       "      <th></th>\n",
       "      <th>atletas.atleta_id</th>\n",
       "      <th>atletas.rodada_id</th>\n",
       "      <th>atletas.pontos_num</th>\n",
       "      <th>atletas.preco_num</th>\n",
       "      <th>atletas.variacao_num</th>\n",
       "      <th>atletas.media_num</th>\n",
       "      <th>FF</th>\n",
       "      <th>FS</th>\n",
       "      <th>PE</th>\n",
       "      <th>RB</th>\n",
       "      <th>...</th>\n",
       "      <th>G</th>\n",
       "      <th>CV</th>\n",
       "      <th>A</th>\n",
       "      <th>I</th>\n",
       "      <th>DD</th>\n",
       "      <th>GS</th>\n",
       "      <th>FT</th>\n",
       "      <th>GC</th>\n",
       "      <th>PP</th>\n",
       "      <th>DP</th>\n",
       "    </tr>\n",
       "  </thead>\n",
       "  <tbody>\n",
       "    <tr>\n",
       "      <th>count</th>\n",
       "      <td>25057.000000</td>\n",
       "      <td>25057.000000</td>\n",
       "      <td>25057.000000</td>\n",
       "      <td>25057.000000</td>\n",
       "      <td>25057.000000</td>\n",
       "      <td>25057.000000</td>\n",
       "      <td>10471.000000</td>\n",
       "      <td>13705.000000</td>\n",
       "      <td>14524.000000</td>\n",
       "      <td>13263.000000</td>\n",
       "      <td>...</td>\n",
       "      <td>4832.000000</td>\n",
       "      <td>1065.000000</td>\n",
       "      <td>4212.000000</td>\n",
       "      <td>5543.000000</td>\n",
       "      <td>1052.000000</td>\n",
       "      <td>1115.000000</td>\n",
       "      <td>1963.000000</td>\n",
       "      <td>340.0</td>\n",
       "      <td>228.000000</td>\n",
       "      <td>188.000000</td>\n",
       "    </tr>\n",
       "    <tr>\n",
       "      <th>mean</th>\n",
       "      <td>81620.729616</td>\n",
       "      <td>16.174083</td>\n",
       "      <td>1.133203</td>\n",
       "      <td>5.049226</td>\n",
       "      <td>0.000328</td>\n",
       "      <td>1.837780</td>\n",
       "      <td>4.614459</td>\n",
       "      <td>9.454214</td>\n",
       "      <td>15.183489</td>\n",
       "      <td>11.413255</td>\n",
       "      <td>...</td>\n",
       "      <td>2.003518</td>\n",
       "      <td>1.074178</td>\n",
       "      <td>1.687559</td>\n",
       "      <td>2.477720</td>\n",
       "      <td>12.684411</td>\n",
       "      <td>9.836771</td>\n",
       "      <td>1.232807</td>\n",
       "      <td>1.0</td>\n",
       "      <td>1.052632</td>\n",
       "      <td>1.042553</td>\n",
       "    </tr>\n",
       "    <tr>\n",
       "      <th>std</th>\n",
       "      <td>18658.374015</td>\n",
       "      <td>8.967015</td>\n",
       "      <td>2.923694</td>\n",
       "      <td>3.826812</td>\n",
       "      <td>0.707719</td>\n",
       "      <td>2.321756</td>\n",
       "      <td>4.470732</td>\n",
       "      <td>10.254566</td>\n",
       "      <td>15.321005</td>\n",
       "      <td>12.633835</td>\n",
       "      <td>...</td>\n",
       "      <td>1.726901</td>\n",
       "      <td>0.299027</td>\n",
       "      <td>1.089754</td>\n",
       "      <td>2.418838</td>\n",
       "      <td>10.256985</td>\n",
       "      <td>8.300478</td>\n",
       "      <td>0.558781</td>\n",
       "      <td>0.0</td>\n",
       "      <td>0.223788</td>\n",
       "      <td>0.202386</td>\n",
       "    </tr>\n",
       "    <tr>\n",
       "      <th>min</th>\n",
       "      <td>36540.000000</td>\n",
       "      <td>1.000000</td>\n",
       "      <td>-8.600000</td>\n",
       "      <td>0.690000</td>\n",
       "      <td>-7.110000</td>\n",
       "      <td>-6.600000</td>\n",
       "      <td>1.000000</td>\n",
       "      <td>1.000000</td>\n",
       "      <td>1.000000</td>\n",
       "      <td>1.000000</td>\n",
       "      <td>...</td>\n",
       "      <td>1.000000</td>\n",
       "      <td>1.000000</td>\n",
       "      <td>1.000000</td>\n",
       "      <td>1.000000</td>\n",
       "      <td>1.000000</td>\n",
       "      <td>1.000000</td>\n",
       "      <td>1.000000</td>\n",
       "      <td>1.0</td>\n",
       "      <td>1.000000</td>\n",
       "      <td>1.000000</td>\n",
       "    </tr>\n",
       "    <tr>\n",
       "      <th>25%</th>\n",
       "      <td>71019.000000</td>\n",
       "      <td>8.000000</td>\n",
       "      <td>0.000000</td>\n",
       "      <td>2.000000</td>\n",
       "      <td>0.000000</td>\n",
       "      <td>0.000000</td>\n",
       "      <td>2.000000</td>\n",
       "      <td>2.000000</td>\n",
       "      <td>4.000000</td>\n",
       "      <td>3.000000</td>\n",
       "      <td>...</td>\n",
       "      <td>1.000000</td>\n",
       "      <td>1.000000</td>\n",
       "      <td>1.000000</td>\n",
       "      <td>1.000000</td>\n",
       "      <td>4.750000</td>\n",
       "      <td>3.000000</td>\n",
       "      <td>1.000000</td>\n",
       "      <td>1.0</td>\n",
       "      <td>1.000000</td>\n",
       "      <td>1.000000</td>\n",
       "    </tr>\n",
       "    <tr>\n",
       "      <th>50%</th>\n",
       "      <td>86759.000000</td>\n",
       "      <td>16.000000</td>\n",
       "      <td>0.000000</td>\n",
       "      <td>4.000000</td>\n",
       "      <td>0.000000</td>\n",
       "      <td>1.200000</td>\n",
       "      <td>3.000000</td>\n",
       "      <td>6.000000</td>\n",
       "      <td>10.000000</td>\n",
       "      <td>7.000000</td>\n",
       "      <td>...</td>\n",
       "      <td>1.000000</td>\n",
       "      <td>1.000000</td>\n",
       "      <td>1.000000</td>\n",
       "      <td>2.000000</td>\n",
       "      <td>10.000000</td>\n",
       "      <td>8.000000</td>\n",
       "      <td>1.000000</td>\n",
       "      <td>1.0</td>\n",
       "      <td>1.000000</td>\n",
       "      <td>1.000000</td>\n",
       "    </tr>\n",
       "    <tr>\n",
       "      <th>75%</th>\n",
       "      <td>97322.000000</td>\n",
       "      <td>24.000000</td>\n",
       "      <td>0.600000</td>\n",
       "      <td>7.040000</td>\n",
       "      <td>0.000000</td>\n",
       "      <td>3.240000</td>\n",
       "      <td>6.000000</td>\n",
       "      <td>13.000000</td>\n",
       "      <td>21.000000</td>\n",
       "      <td>15.000000</td>\n",
       "      <td>...</td>\n",
       "      <td>2.000000</td>\n",
       "      <td>1.000000</td>\n",
       "      <td>2.000000</td>\n",
       "      <td>3.000000</td>\n",
       "      <td>19.000000</td>\n",
       "      <td>15.000000</td>\n",
       "      <td>1.000000</td>\n",
       "      <td>1.0</td>\n",
       "      <td>1.000000</td>\n",
       "      <td>1.000000</td>\n",
       "    </tr>\n",
       "    <tr>\n",
       "      <th>max</th>\n",
       "      <td>103645.000000</td>\n",
       "      <td>31.000000</td>\n",
       "      <td>31.100000</td>\n",
       "      <td>27.590000</td>\n",
       "      <td>10.780000</td>\n",
       "      <td>20.900000</td>\n",
       "      <td>34.000000</td>\n",
       "      <td>90.000000</td>\n",
       "      <td>112.000000</td>\n",
       "      <td>95.000000</td>\n",
       "      <td>...</td>\n",
       "      <td>16.000000</td>\n",
       "      <td>3.000000</td>\n",
       "      <td>10.000000</td>\n",
       "      <td>22.000000</td>\n",
       "      <td>55.000000</td>\n",
       "      <td>44.000000</td>\n",
       "      <td>4.000000</td>\n",
       "      <td>1.0</td>\n",
       "      <td>2.000000</td>\n",
       "      <td>2.000000</td>\n",
       "    </tr>\n",
       "  </tbody>\n",
       "</table>\n",
       "<p>8 rows × 24 columns</p>\n",
       "</div>"
      ],
      "text/plain": [
       "       atletas.atleta_id  atletas.rodada_id  atletas.pontos_num  \\\n",
       "count       25057.000000       25057.000000        25057.000000   \n",
       "mean        81620.729616          16.174083            1.133203   \n",
       "std         18658.374015           8.967015            2.923694   \n",
       "min         36540.000000           1.000000           -8.600000   \n",
       "25%         71019.000000           8.000000            0.000000   \n",
       "50%         86759.000000          16.000000            0.000000   \n",
       "75%         97322.000000          24.000000            0.600000   \n",
       "max        103645.000000          31.000000           31.100000   \n",
       "\n",
       "       atletas.preco_num  atletas.variacao_num  atletas.media_num  \\\n",
       "count       25057.000000          25057.000000       25057.000000   \n",
       "mean            5.049226              0.000328           1.837780   \n",
       "std             3.826812              0.707719           2.321756   \n",
       "min             0.690000             -7.110000          -6.600000   \n",
       "25%             2.000000              0.000000           0.000000   \n",
       "50%             4.000000              0.000000           1.200000   \n",
       "75%             7.040000              0.000000           3.240000   \n",
       "max            27.590000             10.780000          20.900000   \n",
       "\n",
       "                 FF            FS            PE            RB     ...      \\\n",
       "count  10471.000000  13705.000000  14524.000000  13263.000000     ...       \n",
       "mean       4.614459      9.454214     15.183489     11.413255     ...       \n",
       "std        4.470732     10.254566     15.321005     12.633835     ...       \n",
       "min        1.000000      1.000000      1.000000      1.000000     ...       \n",
       "25%        2.000000      2.000000      4.000000      3.000000     ...       \n",
       "50%        3.000000      6.000000     10.000000      7.000000     ...       \n",
       "75%        6.000000     13.000000     21.000000     15.000000     ...       \n",
       "max       34.000000     90.000000    112.000000     95.000000     ...       \n",
       "\n",
       "                 G           CV            A            I           DD  \\\n",
       "count  4832.000000  1065.000000  4212.000000  5543.000000  1052.000000   \n",
       "mean      2.003518     1.074178     1.687559     2.477720    12.684411   \n",
       "std       1.726901     0.299027     1.089754     2.418838    10.256985   \n",
       "min       1.000000     1.000000     1.000000     1.000000     1.000000   \n",
       "25%       1.000000     1.000000     1.000000     1.000000     4.750000   \n",
       "50%       1.000000     1.000000     1.000000     2.000000    10.000000   \n",
       "75%       2.000000     1.000000     2.000000     3.000000    19.000000   \n",
       "max      16.000000     3.000000    10.000000    22.000000    55.000000   \n",
       "\n",
       "                GS           FT     GC          PP          DP  \n",
       "count  1115.000000  1963.000000  340.0  228.000000  188.000000  \n",
       "mean      9.836771     1.232807    1.0    1.052632    1.042553  \n",
       "std       8.300478     0.558781    0.0    0.223788    0.202386  \n",
       "min       1.000000     1.000000    1.0    1.000000    1.000000  \n",
       "25%       3.000000     1.000000    1.0    1.000000    1.000000  \n",
       "50%       8.000000     1.000000    1.0    1.000000    1.000000  \n",
       "75%      15.000000     1.000000    1.0    1.000000    1.000000  \n",
       "max      44.000000     4.000000    1.0    2.000000    2.000000  \n",
       "\n",
       "[8 rows x 24 columns]"
      ]
     },
     "execution_count": 7,
     "metadata": {},
     "output_type": "execute_result"
    }
   ],
   "source": [
    "rodadas2018.describe()"
   ]
  },
  {
   "cell_type": "markdown",
   "metadata": {
    "colab_type": "text",
    "id": "HwlFP8ApduUu"
   },
   "source": [
    "A seguir, o histograma dos dados numéricos, provendo uma visualização da distribuição das instâncias."
   ]
  },
  {
   "cell_type": "code",
   "execution_count": 8,
   "metadata": {
    "colab": {
     "base_uri": "https://localhost:8080/",
     "height": 581
    },
    "colab_type": "code",
    "id": "xAsMLXFLnjYf",
    "outputId": "338ae911-22d3-4e08-c657-f9ecf5c4bf8c"
   },
   "outputs": [
    {
     "data": {
      "text/plain": [
       "<Figure size 1200x800 with 25 Axes>"
      ]
     },
     "metadata": {},
     "output_type": "display_data"
    }
   ],
   "source": [
    "import matplotlib.pyplot as plt\n",
    "rodadas2018.hist(bins=50, figsize=(12,8))\n",
    "plt.tight_layout()\n",
    "plt.show()"
   ]
  },
  {
   "cell_type": "markdown",
   "metadata": {
    "colab_type": "text",
    "id": "2b98zls9weAu"
   },
   "source": [
    "## 2. Limpeza dos dados"
   ]
  },
  {
   "cell_type": "markdown",
   "metadata": {
    "colab_type": "text",
    "id": "Oeo9TjmFwYa-"
   },
   "source": [
    "No dataset há 25057 instâncias e 32 atributos. Há 19 atributos com valores nulos, cerca de 20000 instâncias em cada atributo. Dessa forma, é inviável excluir 19 atributos ou 20000 intâncias. Dessa forma, uma limpeza no dadaset precisa ser feita. Para otimizar e automatizar essa etapa de sanitização dos dados, um pipeline foi criado, contendo uma etapa numérica e outra categórica."
   ]
  },
  {
   "cell_type": "markdown",
   "metadata": {
    "colab_type": "text",
    "id": "7MDI0dxE6rb_"
   },
   "source": [
    "### 2.1. Etapas (classes) do Pipeline Numérico\n",
    "\n",
    "No que diz respeito às colunas numéricas, algumas delas como `atletas.atleta_id` e  `atletas.rodada_id` não são interessantes para a clusterização e, portanto, foram descartadas. Além disso, os atributos com mais de 50% de dados faltantes também foram removidos, de forma que as colunas `FF`, `SG`, `CA`, `FD`, `G`, `CV`, `A`, `I`, `DD`, `GS`, `FT`, `GC`, `PP`, `DP` não foram utilizadas para análise.\n",
    "\n",
    "Para os demais atributos com valores faltantes, a imputação foi feita pela utilização da mediana, para evitar a influência de outliers (o que acontece ao se utilizar a média, por exemplo). Apenas para as colunas `FS`, `PE`, `RB` e `FC` que possuem menos de 50% de dados faltantes. Toda essa etapa de seleção de atributos é realizada na classe `NumericalSelector`."
   ]
  },
  {
   "cell_type": "code",
   "execution_count": 9,
   "metadata": {
    "colab": {},
    "colab_type": "code",
    "id": "mk0XUq4t67hN"
   },
   "outputs": [],
   "source": [
    "from sklearn.base import BaseEstimator, TransformerMixin\n",
    "\n",
    "class NumericalSelector(BaseEstimator, TransformerMixin):\n",
    "    def __init__(self, attribute_names, threshold=0.5):\n",
    "        self.threshold = threshold\n",
    "        self.attribute_names = attribute_names\n",
    "\n",
    "    def fit(self, X, y=None):\n",
    "        return self\n",
    "\n",
    "    def transform(self, X):\n",
    "        X = X[self.attribute_names]\n",
    "        total_rows = X.shape[0]\n",
    "        columns = X.columns[X.isnull().sum()/total_rows <= self.threshold]\n",
    "        return X[columns]"
   ]
  },
  {
   "cell_type": "markdown",
   "metadata": {
    "colab_type": "text",
    "id": "L0bPuR3P4qf6"
   },
   "source": [
    "Outra prática interessante, representada pela classe `CombinedAttributesAdder` é a de gerar novos atributos que podem auxiliar no processo de clusterização. Neste caso, foram geradas as razões `preco_por_rodada` e `FC_por_FS`. Ademais, foi acrescentada a coluna `atleta.valioso` que determina se o atleta é valioso ou não (atletas valiosos são aqueles cujo preço é acima da média)."
   ]
  },
  {
   "cell_type": "code",
   "execution_count": 10,
   "metadata": {
    "colab": {},
    "colab_type": "code",
    "id": "lN4u9WXe6-T5"
   },
   "outputs": [],
   "source": [
    "class CombinedAttributesAdder(BaseEstimator, TransformerMixin):\n",
    "\n",
    "    def __init__(self, add_extra_attributes = True):\n",
    "        self.add_extra_attributes = add_extra_attributes\n",
    "\n",
    "    def fit(self, X, y=None):\n",
    "        return self\n",
    "\n",
    "    def transform(self, X, y=None):\n",
    "        fc_per_fs = X['FC'] / X['FS']\n",
    "        if self.add_extra_attributes:\n",
    "            X['preco_por_rodada'] = X['atletas.preco_num'] / X['atletas.rodada_id']\n",
    "            X['FC_por_FS'] = X['FC']/X['FS']\n",
    "            \n",
    "            mean = X['atletas.preco_num'].mean()\n",
    "            X['atleta.valioso'] = X['atletas.preco_num'] > mean\n",
    "\n",
    "        return X.values"
   ]
  },
  {
   "cell_type": "markdown",
   "metadata": {
    "colab_type": "text",
    "id": "muKJMcxg6yns"
   },
   "source": [
    "### 2.2. Etapas (classes) do Pipeline Categórico\n",
    "\n",
    "Em relação as colunas categóricas, foi feita uma análise e seleção apenas dos atributos de interesse na classe `CategoricalSelector`."
   ]
  },
  {
   "cell_type": "code",
   "execution_count": 11,
   "metadata": {
    "colab": {},
    "colab_type": "code",
    "id": "ZVw3cUX-7BAd"
   },
   "outputs": [],
   "source": [
    "class CategoricalSelector(BaseEstimator, TransformerMixin):\n",
    "    def __init__(self, columnsToSelect=[]):\n",
    "        self.columnsToSelect = columnsToSelect\n",
    "\n",
    "    def fit(self, X, y=None):\n",
    "        return self\n",
    "\n",
    "    def transform(self, X):\n",
    "        return X[self.columnsToSelect].values"
   ]
  },
  {
   "cell_type": "markdown",
   "metadata": {
    "colab_type": "text",
    "id": "PaM-MKK_608q"
   },
   "source": [
    "### 2.3. Construção do Pipeline\n",
    "\n",
    "Nesta etapa, os pipelines são unidos em um só e são especificadas as colunas desejadas. Para o pipeline numérico, removeu-se antes as colunas `atletas.atleta_id` e `atletas.rodada_id`. As demais colunas passaram no pipeline. Para a parte categórica, utilizou-se apenas as colunas `atletas.posicao_id`, `atletas.status_id` e `atletas.clube_id`."
   ]
  },
  {
   "cell_type": "code",
   "execution_count": null,
   "metadata": {
    "colab": {},
    "colab_type": "code",
    "id": "1QFNo-3T7DT2"
   },
   "outputs": [],
   "source": [
    "from sklearn.pipeline import Pipeline, FeatureUnion\n",
    "from sklearn.preprocessing import StandardScaler, Imputer\n",
    "from future_encoders import OneHotEncoder\n",
    "\n",
    "num_attribs = rodadas2018.select_dtypes(include=['int', 'float']).columns[1:]\n",
    "cat_attribs = ['atletas.posicao_id', 'atletas.status_id']\n",
    "\n",
    "num_pipeline = Pipeline([('selector', NumericalSelector(attribute_names=num_attribs)),\n",
    "                         ('attribs_adder', CombinedAttributesAdder()),\n",
    "                         ('imputer', Imputer(strategy=\"median\")),\n",
    "                         ('std_scaler', StandardScaler())\n",
    "                        ])\n",
    "\n",
    "cat_pipeline = Pipeline([('selector', CategoricalSelector(cat_attribs)),\n",
    "                         ('cat_encoder', OneHotEncoder(sparse=False))\n",
    "                        ])\n",
    "\n",
    "full_pipeline = FeatureUnion(transformer_list=[(\"num_pipeline\", num_pipeline),\n",
    "                                               (\"cat_pipeline\", cat_pipeline)\n",
    "                                              ])"
   ]
  },
  {
   "cell_type": "markdown",
   "metadata": {
    "colab_type": "text",
    "id": "uWZPFUJT64ai"
   },
   "source": [
    "### 2.4. Função de aplicação do Pipeline e recuperação do dataset\n",
    "\n",
    "Por fim, foi criada a função que utiliza o pipeline completo e reconstrói o dataset tratado."
   ]
  },
  {
   "cell_type": "code",
   "execution_count": null,
   "metadata": {
    "colab": {},
    "colab_type": "code",
    "id": "GiKIW1SY7GCm"
   },
   "outputs": [],
   "source": [
    "def clean_df(df):\n",
    "    data = full_pipeline.fit_transform(df)\n",
    "    num_attribs_cleaned = list(num_pipeline.named_steps['selector'].transform(df[num_attribs]).columns)\n",
    "    extra_attribs = ['preco_por_rodada', 'FC_por_FS', 'atleta.valioso']\n",
    "    cat_encoder = cat_pipeline.named_steps['cat_encoder']\n",
    "\n",
    "    columns = num_attribs_cleaned + extra_attribs\n",
    "    for cat in list(cat_encoder.categories_):\n",
    "        columns += list(cat)\n",
    "    return pd.DataFrame(data, columns=columns)"
   ]
  },
  {
   "cell_type": "code",
   "execution_count": null,
   "metadata": {
    "colab": {
     "base_uri": "https://localhost:8080/",
     "height": 425
    },
    "colab_type": "code",
    "id": "A7m8xXIp7LmR",
    "outputId": "281c4ce4-2d12-4d7d-e007-de8cfcff5d57"
   },
   "outputs": [],
   "source": [
    "clean_df(rodadas2018).isnull().sum()"
   ]
  },
  {
   "cell_type": "markdown",
   "metadata": {
    "colab_type": "text",
    "id": "C-f7ZHAUDVhs"
   },
   "source": [
    "##### Datasets após a limpeza"
   ]
  },
  {
   "cell_type": "code",
   "execution_count": null,
   "metadata": {
    "colab": {
     "base_uri": "https://localhost:8080/",
     "height": 68
    },
    "colab_type": "code",
    "id": "CV6wDWpJg--z",
    "outputId": "3a54f6d2-fcfc-4712-9f49-9add366fcc0c"
   },
   "outputs": [],
   "source": [
    "from sklearn.model_selection import train_test_split\n",
    "\n",
    "train_set, test_set = train_test_split(rodadas2018, \n",
    "                                       test_size=0.2, \n",
    "                                       random_state=35)\n",
    "\n",
    "print(\"data has {} instances\\n {} train instances\\n {} test intances\".\n",
    "      format(len(rodadas2018),len(train_set),len(test_set)))\n",
    "\n",
    "\n",
    "rodadas=clean_df(rodadas2018)\n",
    "train=clean_df(train_set)\n",
    "test=clean_df(test_set)"
   ]
  },
  {
   "cell_type": "markdown",
   "metadata": {
    "colab_type": "text",
    "id": "yxQqsAgKDjbk"
   },
   "source": [
    "#### Correlação\n",
    "\n",
    "Correlação entre as características após a limpeza dos dados"
   ]
  },
  {
   "cell_type": "code",
   "execution_count": null,
   "metadata": {
    "colab": {
     "base_uri": "https://localhost:8080/",
     "height": 965
    },
    "colab_type": "code",
    "id": "FnzEDoLzDq_L",
    "outputId": "f89cb4f3-935d-4231-a9ba-29444694eb75"
   },
   "outputs": [],
   "source": [
    "import seaborn as sns\n",
    "import matplotlib.pyplot as plt\n",
    "plt.figure(figsize=(15, 15))\n",
    "sns.heatmap(rodadas.corr(), \n",
    "            annot=True, fmt=\".2f\")"
   ]
  },
  {
   "cell_type": "markdown",
   "metadata": {
    "colab_type": "text",
    "id": "JcR7UpX6uKBE"
   },
   "source": [
    "## 3. Clusterização"
   ]
  },
  {
   "cell_type": "markdown",
   "metadata": {
    "colab_type": "text",
    "id": "f2975q5EuRoy"
   },
   "source": [
    "### 3.1. Análise dos meio campistas para clusterização"
   ]
  },
  {
   "cell_type": "code",
   "execution_count": null,
   "metadata": {
    "colab": {},
    "colab_type": "code",
    "id": "lMccUPM-EFDT"
   },
   "outputs": [],
   "source": [
    "posicoes=['ata','gol', 'lat', 'tec', 'zag']\n",
    "rodadasmeia =rodadas.drop(posicoes, axis=1)\n",
    "meia=rodadasmeia[rodadasmeia['mei'] != 0]"
   ]
  },
  {
   "cell_type": "code",
   "execution_count": null,
   "metadata": {
    "colab": {
     "base_uri": "https://localhost:8080/",
     "height": 3278
    },
    "colab_type": "code",
    "id": "yh5DRV3sEQ4T",
    "outputId": "89994f22-e445-4d10-8d1c-44f897568eb1"
   },
   "outputs": [],
   "source": [
    "sns.pairplot(meia, diag_kind='hist')"
   ]
  },
  {
   "cell_type": "code",
   "execution_count": null,
   "metadata": {
    "colab": {
     "base_uri": "https://localhost:8080/",
     "height": 347
    },
    "colab_type": "code",
    "id": "a7qxPPPFEWDq",
    "outputId": "532002ed-4d26-4ff3-a4bd-58d3e5982fac"
   },
   "outputs": [],
   "source": [
    "# Característica eleita para agrupar os meias\n",
    "import numpy as np\n",
    "import matplotlib.pyplot as plt\n",
    "X=meia['RB']\n",
    "y=meia['FS']\n",
    "plt.scatter(X,y)\n",
    "plt.show()"
   ]
  },
  {
   "cell_type": "markdown",
   "metadata": {
    "colab_type": "text",
    "id": "qlOGnqcCEZu8"
   },
   "source": [
    "### k-means"
   ]
  },
  {
   "cell_type": "code",
   "execution_count": null,
   "metadata": {
    "colab": {},
    "colab_type": "code",
    "id": "yqjHnndIEcJe"
   },
   "outputs": [],
   "source": [
    "# Visualização dos clusters\n",
    "def visualize_clusters(df, num_clusters,col1,col2):\n",
    "    colors = ['y', 'g', 'r', 'm']\n",
    "\n",
    "    for n in range(num_clusters):\n",
    "        clustered_df = df[df['cluster'] == n]\n",
    "        plt.scatter(clustered_df[col1], clustered_df[col2], c=colors[n-1])\n",
    "        plt.xlabel('RB', fontsize=13)\n",
    "        plt.ylabel('FS', fontsize=13)\n",
    "    plt.show()"
   ]
  },
  {
   "cell_type": "code",
   "execution_count": null,
   "metadata": {
    "colab": {},
    "colab_type": "code",
    "id": "j36nrMw6Ehd1"
   },
   "outputs": [],
   "source": [
    "def visualize_kmeans(df, num_clusters, col1,col2):\n",
    "  from sklearn.cluster import KMeans\n",
    "\n",
    "  kmeans = KMeans(n_clusters=num_clusters)\n",
    "  kmeans.fit(df[[col1, col2]])\n",
    "  df['cluster'] = kmeans.labels_\n",
    "  visualize_clusters(df, num_clusters,col1,col2)"
   ]
  },
  {
   "cell_type": "markdown",
   "metadata": {
    "colab_type": "text",
    "id": "yxBrx_x-iBsL"
   },
   "source": [
    "##### Vizualização dos clusters\n",
    "\n",
    "Foi agrupado os jogadores meias em 4 clusters. Relacionando o número de Bolas roubadas e Faltas sofridas, ou seja, a habilidade do jogador em assumir a posse de bola frente a marcação do adversário."
   ]
  },
  {
   "cell_type": "code",
   "execution_count": null,
   "metadata": {
    "colab": {
     "base_uri": "https://localhost:8080/",
     "height": 485
    },
    "colab_type": "code",
    "id": "9qJlyt8UiKkC",
    "outputId": "0f3449fc-eb1b-480e-d39f-0ce839f42ecf"
   },
   "outputs": [],
   "source": [
    "visualize_kmeans(meia,4 , 'RB','FS' )"
   ]
  },
  {
   "cell_type": "code",
   "execution_count": null,
   "metadata": {
    "colab": {
     "base_uri": "https://localhost:8080/",
     "height": 162
    },
    "colab_type": "code",
    "id": "Pdq9t-CjiNBl",
    "outputId": "b171257b-45c7-40c7-d682-3e5a5f9646a4"
   },
   "outputs": [],
   "source": [
    "meia.head(3)"
   ]
  },
  {
   "cell_type": "markdown",
   "metadata": {
    "colab_type": "text",
    "id": "2hKREUQEiPi-"
   },
   "source": [
    "colors = ['y', 'g', 'r', 'm']\n",
    "\n",
    "grupo = [0,1,2,3]"
   ]
  },
  {
   "cell_type": "markdown",
   "metadata": {
    "colab_type": "text",
    "id": "SeQUtZdCiScy"
   },
   "source": [
    "###### Inferências:\n",
    "\n",
    "Cluster rosa: meias menos atuantes no jogo - poucas bolas roubadas e com consequência poucas faltas sofridas, pois há menor posse de bola\n",
    "\n",
    "Cluster vermelho: meias de atuação mediana no jogo - poucas bolas roubas e poucas faltas sofridas, mais atuante que o grupo preto.\n",
    "\n",
    "Cluster verde: meias que sofrem mais marcação\n",
    "\n",
    "Cluster amarelo: meias que roubam mais a bola"
   ]
  },
  {
   "cell_type": "markdown",
   "metadata": {
    "colab_type": "text",
    "id": "Ndmu2tIRiT-w"
   },
   "source": [
    "----------- Observando a performace dos meias frente ao pontos ------------------------------------------------------------ "
   ]
  },
  {
   "cell_type": "code",
   "execution_count": null,
   "metadata": {
    "colab": {
     "base_uri": "https://localhost:8080/",
     "height": 85
    },
    "colab_type": "code",
    "id": "xqevgeTbiaKe",
    "outputId": "4e151c2b-99ce-40f3-ca13-81fb19fd5170"
   },
   "outputs": [],
   "source": [
    "print (meia['atletas.pontos_num'][meia['cluster'] == 3].mean())\n",
    "print(meia['atletas.pontos_num'][meia['cluster'] == 2].mean())\n",
    "print(meia['atletas.pontos_num'][meia['cluster'] == 0].mean())\n",
    "print(meia['atletas.pontos_num'][meia['cluster'] == 1].mean())"
   ]
  },
  {
   "cell_type": "markdown",
   "metadata": {
    "colab_type": "text",
    "id": "WO8HvudAic8U"
   },
   "source": [
    "A maior pontuação média obervada foi no cluster verde, no qual os jogadores possuem mais habilidade em roubar bola"
   ]
  },
  {
   "cell_type": "markdown",
   "metadata": {
    "colab_type": "text",
    "id": "D0EcskDVigRF"
   },
   "source": [
    "----------- Observando a performace dos meias frente a razão FCFS ------------------------------------------------------------"
   ]
  },
  {
   "cell_type": "code",
   "execution_count": null,
   "metadata": {
    "colab": {
     "base_uri": "https://localhost:8080/",
     "height": 85
    },
    "colab_type": "code",
    "id": "Y6tWXmvYiisR",
    "outputId": "cf69991a-b6d8-4a49-eb4d-b5242fdb21c2"
   },
   "outputs": [],
   "source": [
    "print (meia['FC_por_FS'][meia['cluster'] == 3].mean())\n",
    "print(meia['FC_por_FS'][meia['cluster'] == 2].mean())\n",
    "print(meia['FC_por_FS'][meia['cluster'] == 0].mean())\n",
    "print(meia['FC_por_FS'][meia['cluster'] == 1].mean())"
   ]
  },
  {
   "cell_type": "markdown",
   "metadata": {
    "colab_type": "text",
    "id": "WY5N8PU4ilVp"
   },
   "source": [
    "A média dos valores da razão FC_por_FS foi inversamente proporcional ao desempenho dos clusters. Os clusteres amarelo e verde apresentaram o fator FCFS menor que os clusters rosa e vermelho, evidenciando que \"bons\" jogadores sofrem mais faltas que cometem."
   ]
  },
  {
   "cell_type": "markdown",
   "metadata": {
    "colab_type": "text",
    "id": "J5-Ugqm7OWFe"
   },
   "source": [
    "### Agrupando jogadores de alto valor"
   ]
  },
  {
   "cell_type": "markdown",
   "metadata": {
    "colab_type": "text",
    "id": "apvGazqJVXx5"
   },
   "source": [
    "Agora, busca-se agrupar os jogadores em dois clusters: os de alto e os de baixo valor. Vale salientar que já temos esse atributo gerado em `atleta.valioso`, mas utilizaremos outros atributos para tentar agrupar os jogadores.\n",
    "\n",
    "Usando 3 atributos conseguimos facilmente visualizar os agrupamentos. Jogadores de alto valor, em geral, tendem a ter uma boa performance e, portanto, uma média de pontos (`atletas.media_num`) elevada. Esses jogadores também são muito cotados para entrar em campo, tendo o `atletas.status_id` primordialmente igual à `Provável`. Por outro lado, atletas de baixo valor tem um status igual à `Nulo`."
   ]
  },
  {
   "cell_type": "code",
   "execution_count": null,
   "metadata": {
    "colab": {},
    "colab_type": "code",
    "id": "JE9bCdkJOVXP"
   },
   "outputs": [],
   "source": [
    "from sklearn.cluster import KMeans\n",
    "\n",
    "rodadas_cleaned = clean_df(rodadas2018)\n",
    "kmeans_model = KMeans(n_clusters=2, random_state=1)\n",
    "distances = kmeans_model.fit_transform(rodadas_cleaned[['atletas.media_num', 'Provável', 'Nulo']])"
   ]
  },
  {
   "cell_type": "markdown",
   "metadata": {
    "colab_type": "text",
    "id": "cUJ0dS1xlx2r"
   },
   "source": [
    "Nós podemos usar o método `crosstab()` do Pandas para computar e exibir quantos jogadores de cada classificação (em valioso ou não-valioso) ficaram em cada partido. Observemos que o cluster zero contém a maioria dos jogadores de baixo valor (90% deles), enquanto o cluster um contém a maioria dos jogadores considerados de alto valor (75% deles)."
   ]
  },
  {
   "cell_type": "code",
   "execution_count": null,
   "metadata": {
    "colab": {
     "base_uri": "https://localhost:8080/",
     "height": 142
    },
    "colab_type": "code",
    "id": "sbieEs7RV4FB",
    "outputId": "e4092997-e91c-41e6-bfc4-a9d71726d121"
   },
   "outputs": [],
   "source": [
    "import numpy as np\n",
    "\n",
    "labels = kmeans_model.labels_\n",
    "pd.crosstab(np.array(labels), np.array(rodadas_cleaned['atleta.valioso']), colnames=['valioso'], rownames=['labels'])"
   ]
  },
  {
   "cell_type": "markdown",
   "metadata": {
    "colab_type": "text",
    "id": "5XJSVdKVmnsh"
   },
   "source": [
    "Por fim, podemos plotar as distâncias obtidas com a plicação do KMeans e visualizar os clusters no gráfico a seguir."
   ]
  },
  {
   "cell_type": "code",
   "execution_count": null,
   "metadata": {
    "colab": {
     "base_uri": "https://localhost:8080/",
     "height": 347
    },
    "colab_type": "code",
    "id": "0j2er8jOV4L9",
    "outputId": "42d6a635-68b6-4ec5-8891-3334fe5006b9"
   },
   "outputs": [],
   "source": [
    "import matplotlib.pyplot as plt\n",
    "\n",
    "plt.scatter(x=distances[:,0], y=distances[:,1], c=labels, cmap='RdBu')\n",
    "plt.show()"
   ]
  },
  {
   "cell_type": "markdown",
   "metadata": {
    "colab_type": "text",
    "id": "QSXZPJey7UHm"
   },
   "source": [
    "## Tomada de decisão (árvore de decisão)"
   ]
  },
  {
   "cell_type": "markdown",
   "metadata": {
    "colab_type": "text",
    "id": "q6O1ekZg7YVg"
   },
   "source": [
    "O algoritmo DecisionTree será utilizado para resolver um problema de classificação e outro de regressão"
   ]
  },
  {
   "cell_type": "markdown",
   "metadata": {
    "colab_type": "text",
    "id": "S8r3Ny4Q7dHe"
   },
   "source": [
    "##### Utilizando o DecisionTreeClassifier como classificador para prever a posição do jogador"
   ]
  },
  {
   "cell_type": "markdown",
   "metadata": {
    "colab_type": "text",
    "id": "pxcpE1GZ7u7Y"
   },
   "source": [
    "A classificação utilizará algumas características ('atletas.preco_num','atletas.pontos_num','atletas.variacao_num','atletas.media_num', 'FS', 'PE', 'RB', 'FC', 'FC_por_FS') no vetor de atributo para classificar os jogadores em 3 classes: atacante, goleiro e técnico."
   ]
  },
  {
   "cell_type": "code",
   "execution_count": null,
   "metadata": {
    "colab": {},
    "colab_type": "code",
    "id": "R3bXgHOFE62k"
   },
   "outputs": [],
   "source": [
    "# colunas usadas como atributos\n",
    "atributos0 = ['atletas.preco_num','atletas.pontos_num','atletas.variacao_num','atletas.media_num', 'FS', 'PE', 'RB', 'FC', 'FC_por_FS']\n",
    "\n",
    "train_df= train[atributos0].copy()\n",
    "for i in range(0,len(train)):\n",
    "  if train.loc[i,'ata']==1:\n",
    "    train_df.loc[i,'posicao']=0\n",
    "  elif train.loc[i,'gol']==1 :\n",
    "    train_df.loc[i,'posicao']=1\n",
    "  elif train.loc[i,'lat']==1 :\n",
    "    train_df.loc[i,'posicao']=2\n",
    "  elif train.loc[i,'mei']==1 :\n",
    "    train_df.loc[i,'posicao']=3\n",
    "  elif train.loc[i,'tec']==1 :\n",
    "    train_df.loc[i,'posicao']=4\n",
    "  else: #train[i,'zag']==1 :\n",
    "    train_df.loc[i,'posicao']=5\n",
    "    \n",
    "test_df= test[atributos0].copy()\n",
    "for i in range(0,len(test)):\n",
    "  if test.loc[i,'ata']==1:\n",
    "    test_df.loc[i,'posicao']=0\n",
    "  elif test.loc[i,'gol']==1 :\n",
    "    test_df.loc[i,'posicao']=1\n",
    "  elif test.loc[i,'lat']==1 :\n",
    "    test_df.loc[i,'posicao']=2\n",
    "  elif test.loc[i,'mei']==1 :\n",
    "    test_df.loc[i,'posicao']=3\n",
    "  elif test.loc[i,'tec']==1 :\n",
    "    test_df.loc[i,'posicao']=4\n",
    "  else: #test[i,'zag']==1 :\n",
    "    test_df.loc[i,'posicao']=5\n",
    "\n",
    "classe0=['posicao']    \n",
    "#train\n",
    "atacante_tr=train_df[train_df['posicao'] == 0]\n",
    "goleiro_tr=train_df[train_df['posicao'] == 1]\n",
    "tecnico_tr=train_df[train_df['posicao'] == 4]\n",
    "frames_tr = [atacante_tr, goleiro_tr,tecnico_tr]\n",
    "train_df_ = pd.concat(frames_tr)\n",
    "#test\n",
    "atacante_te=test_df[test_df['posicao'] == 0]\n",
    "goleiro_te=test_df[test_df['posicao'] == 1]\n",
    "tecnico_te=test_df[test_df['posicao'] == 4]\n",
    "frames_tr = [atacante_te, goleiro_te,tecnico_te]\n",
    "test_df_ = pd.concat(frames_tr)"
   ]
  },
  {
   "cell_type": "markdown",
   "metadata": {
    "colab_type": "text",
    "id": "4xf_sOHEE_Fh"
   },
   "source": [
    "Escolha dos parâmetros:\n",
    "\n",
    "Foi utilizado o método GridSearchCV que escolherá os melhores parâmetros para min_samples_split e max_depth com 5x7 combinações.\n",
    "O treinamento será realizado por meio da validação cruzada com 10-fold"
   ]
  },
  {
   "cell_type": "code",
   "execution_count": null,
   "metadata": {
    "colab": {},
    "colab_type": "code",
    "id": "mHBjsc7RFLBW"
   },
   "outputs": [],
   "source": [
    "from sklearn.tree import DecisionTreeClassifier\n",
    "from sklearn.model_selection import GridSearchCV\n",
    "from  sklearn.metrics  import  roc_auc_score\n",
    "\n",
    "# valores dos hiperparametros\n",
    "param_grid_cla = [{\n",
    "            \"min_samples_split\": [2, 13, 30, 50, 100],\n",
    "            \"max_depth\": [3,5,7,9,10,15,50]\n",
    "             }]\n",
    "\n",
    "# classificador\n",
    "tree_cla = DecisionTreeClassifier()\n",
    "\n",
    "# grid search com cross validation\n",
    "#  5x7  =  35 combinations\n",
    "grid_search_cla = GridSearchCV(tree_cla, \n",
    "                           param_grid_cla, \n",
    "                           cv=10,\n",
    "                           scoring='accuracy')"
   ]
  },
  {
   "cell_type": "code",
   "execution_count": null,
   "metadata": {
    "colab": {
     "base_uri": "https://localhost:8080/",
     "height": 204
    },
    "colab_type": "code",
    "id": "7iuqOrNrFNi1",
    "outputId": "5557a160-635e-41c4-a3d0-3e499308147c"
   },
   "outputs": [],
   "source": [
    "#treinamento\n",
    "grid_search_cla.fit(train_df_[atributos0], train_df_[classe0])"
   ]
  },
  {
   "cell_type": "code",
   "execution_count": null,
   "metadata": {
    "colab": {
     "base_uri": "https://localhost:8080/",
     "height": 34
    },
    "colab_type": "code",
    "id": "F4r5mAbBFQBX",
    "outputId": "d30a2768-2792-4ca3-9e55-e4aa520d24ef"
   },
   "outputs": [],
   "source": [
    "#parâmetros escolhidos pelo método GridSearchCV\n",
    "grid_search_cla.best_params_"
   ]
  },
  {
   "cell_type": "code",
   "execution_count": null,
   "metadata": {
    "colab": {
     "base_uri": "https://localhost:8080/",
     "height": 119
    },
    "colab_type": "code",
    "id": "hKgvN7geFSDP",
    "outputId": "dcf3cf37-cc34-4167-ccfb-bbbfb0be502e"
   },
   "outputs": [],
   "source": [
    "# características do melhor modelo\n",
    "grid_search_cla.best_estimator_"
   ]
  },
  {
   "cell_type": "markdown",
   "metadata": {
    "colab_type": "text",
    "id": "vkJ_8VomFU1z"
   },
   "source": [
    "Aplicando o modelo de classificação"
   ]
  },
  {
   "cell_type": "code",
   "execution_count": null,
   "metadata": {
    "colab": {},
    "colab_type": "code",
    "id": "i7c9GqVXFW10"
   },
   "outputs": [],
   "source": [
    "modelo_cla = grid_search_cla.best_estimator_\n",
    "\n",
    "from sklearn.model_selection import cross_val_score\n",
    "from sklearn.tree import DecisionTreeClassifier\n",
    "from sklearn.model_selection import GridSearchCV\n",
    "from  sklearn.metrics  import  roc_auc_score\n",
    "\n",
    "scores_acc = cross_val_score(modelo_cla, \n",
    "                         train_df_[atributos0], \n",
    "                         train_df_[classe0],\n",
    "                         cv=10,\n",
    "                         scoring='accuracy')"
   ]
  },
  {
   "cell_type": "code",
   "execution_count": null,
   "metadata": {
    "colab": {},
    "colab_type": "code",
    "id": "Q5ZyCUxGFZJE"
   },
   "outputs": [],
   "source": [
    "def display_scores(scores):\n",
    "  print(\"Scores:\", scores)\n",
    "  print(\"Mean:\", scores.mean())\n",
    "  print(\"Standard deviation:\", scores.std())"
   ]
  },
  {
   "cell_type": "code",
   "execution_count": null,
   "metadata": {
    "colab": {
     "base_uri": "https://localhost:8080/",
     "height": 85
    },
    "colab_type": "code",
    "id": "EKmBMtLrFbOo",
    "outputId": "0b673ade-739f-474d-dd66-2b716fd7b269"
   },
   "outputs": [],
   "source": [
    "display_scores(scores_acc)"
   ]
  },
  {
   "cell_type": "code",
   "execution_count": null,
   "metadata": {
    "colab": {
     "base_uri": "https://localhost:8080/",
     "height": 34
    },
    "colab_type": "code",
    "id": "hIdDepZ9FdLE",
    "outputId": "ebe134ac-70b3-479a-dbf3-67bdc8cf7f4c"
   },
   "outputs": [],
   "source": [
    "#teste\n",
    "import numpy as np\n",
    "from sklearn.metrics import accuracy_score\n",
    "predictions_cla = modelo_cla.predict(test_df_[atributos0])\n",
    "accuracy_score(test_df_[classe0],predictions_cla)"
   ]
  },
  {
   "cell_type": "markdown",
   "metadata": {
    "colab_type": "text",
    "id": "0rui2ioCGQZ2"
   },
   "source": [
    "###### Inferências"
   ]
  },
  {
   "cell_type": "markdown",
   "metadata": {
    "colab_type": "text",
    "id": "pITOA631Fg3n"
   },
   "source": [
    "A métrica utilizada para avaliação a classificação foi a acurácia:\n",
    "\n",
    "\n",
    "\n",
    "-------- Resultado do treinamento com validação cruzada (10-fold):\n",
    "\n",
    "Scores: [0.81414702 0.83055556 0.82361111 0.81527778 0.80555556 0.83611111\n",
    " 0.82916667 0.81944444 0.82172702 0.83426184]\n",
    " \n",
    "Mean: 0.8229858098191454\n",
    "\n",
    "Standard deviation: 0.009223854849085888\n",
    "\n",
    "-------- Resultado do teste usando o modelo treinado:\n",
    "\n",
    "0.7681623931623932\n",
    "\n",
    "-------------------------------------------------------------------------------------------------------------------\n",
    "\n",
    "A acurácia indica a precisão na classificação. Os valores de acurácia no treinamento e na fase de teste apresentaram bons resultados, acima de 75% de acertos. Porém durante o teste o resultado foi um pouco inferior a classificação, mas não caracterizando um problema de overfitng."
   ]
  },
  {
   "cell_type": "markdown",
   "metadata": {
    "colab_type": "text",
    "id": "JXG5c95T8I1L"
   },
   "source": [
    "##### Utilizando o DecisionTreeRegressor para estimar a pontução de cada jogador"
   ]
  },
  {
   "cell_type": "markdown",
   "metadata": {
    "colab_type": "text",
    "id": "2eCJlggxFkzD"
   },
   "source": [
    "Prevendo o número de pontos do jogador utilizando todas as características como atributos."
   ]
  },
  {
   "cell_type": "code",
   "execution_count": null,
   "metadata": {
    "colab": {},
    "colab_type": "code",
    "id": "z6VaqJ4gFnjd"
   },
   "outputs": [],
   "source": [
    "# colunas usadas como atributos\n",
    "atributos1 = ['atletas.preco_num', 'atletas.variacao_num','atletas.media_num', 'FS', 'PE', 'RB', 'FC', 'FC_por_FS','preco_por_rodada','ata','gol', 'lat','mei', 'tec', 'zag','Contundido', 'Dúvida', 'Nulo', 'Provável', 'Suspenso']\n",
    "classe1=['atletas.pontos_num']"
   ]
  },
  {
   "cell_type": "markdown",
   "metadata": {
    "colab_type": "text",
    "id": "9j9EuJkjFqyV"
   },
   "source": [
    "Escolha dos parâmetros:\n",
    "\n",
    "Foi utilizado o método GridSearchCV que escolherá os melhores parâmetros para max_depth e max_features com 6x9 combinações.\n",
    "O treinamento será realizado por meio da validação cruzada com 10-fold"
   ]
  },
  {
   "cell_type": "code",
   "execution_count": null,
   "metadata": {
    "colab": {},
    "colab_type": "code",
    "id": "hm8jbmY0Fu1q"
   },
   "outputs": [],
   "source": [
    "from sklearn.tree import DecisionTreeRegressor\n",
    "from sklearn.model_selection import GridSearchCV\n",
    "\n",
    "# valores dos hiperparametros\n",
    "param_grid_reg = [{\n",
    "            \"max_depth\": [1, 2, 4, 3, 5, 10],\n",
    "            \"max_features\": ['auto',0.1, 0.2, 0.3, 0.4, 1, 2, 3, 4]\n",
    "             }]\n",
    "\n",
    "# classificador\n",
    "tree_reg = DecisionTreeRegressor()\n",
    "\n",
    "# grid search com cross validation\n",
    "# 6 x 9 = 54 combinations\n",
    "grid_search_reg = GridSearchCV(tree_reg, \n",
    "                           param_grid_reg, \n",
    "                           cv=10,\n",
    "                           scoring='neg_mean_squared_error')"
   ]
  },
  {
   "cell_type": "code",
   "execution_count": null,
   "metadata": {
    "colab": {
     "base_uri": "https://localhost:8080/",
     "height": 187
    },
    "colab_type": "code",
    "id": "nymCVevmFxRb",
    "outputId": "c549ebe3-50b3-41bf-eedf-4dd43bf1d8fa"
   },
   "outputs": [],
   "source": [
    "#fase de treinamento\n",
    "grid_search_reg.fit(train[atributos1], train[classe1])"
   ]
  },
  {
   "cell_type": "code",
   "execution_count": null,
   "metadata": {
    "colab": {
     "base_uri": "https://localhost:8080/",
     "height": 34
    },
    "colab_type": "code",
    "id": "22hRMqFLFzvZ",
    "outputId": "354525eb-de3e-4b85-9956-d090bc938d4d"
   },
   "outputs": [],
   "source": [
    "#parâmetros escolhidos pelo método GridSearchCV\n",
    "grid_search_reg.best_params_"
   ]
  },
  {
   "cell_type": "code",
   "execution_count": null,
   "metadata": {
    "colab": {
     "base_uri": "https://localhost:8080/",
     "height": 102
    },
    "colab_type": "code",
    "id": "7ssVQUoqF2Bx",
    "outputId": "a9523d64-22c5-4f84-e988-a79dbb5e9dd7"
   },
   "outputs": [],
   "source": [
    "# características do melhor modelo\n",
    "grid_search_reg.best_estimator_"
   ]
  },
  {
   "cell_type": "markdown",
   "metadata": {
    "colab_type": "text",
    "id": "zVOTOio7F5Mj"
   },
   "source": [
    "Aplicando o modelo de regressão "
   ]
  },
  {
   "cell_type": "code",
   "execution_count": null,
   "metadata": {
    "colab": {},
    "colab_type": "code",
    "id": "9MY8K-IFF9Du"
   },
   "outputs": [],
   "source": [
    "modelo_reg = grid_search_reg.best_estimator_\n",
    "\n",
    "from sklearn.tree import DecisionTreeRegressor\n",
    "from sklearn.model_selection import GridSearchCV\n",
    "\n",
    "scores_mse = cross_val_score(modelo_reg, \n",
    "                         train[atributos1], \n",
    "                         train[classe1],\n",
    "                         scoring=\"neg_mean_squared_error\",\n",
    "                         cv=10)\n",
    "score_rmse=np.sqrt(-scores_mse)"
   ]
  },
  {
   "cell_type": "code",
   "execution_count": null,
   "metadata": {
    "colab": {
     "base_uri": "https://localhost:8080/",
     "height": 85
    },
    "colab_type": "code",
    "id": "rpuBGftpF_uJ",
    "outputId": "d685f1ae-494c-406a-9897-59fbda6ebf63"
   },
   "outputs": [],
   "source": [
    "display_scores(score_rmse)"
   ]
  },
  {
   "cell_type": "markdown",
   "metadata": {
    "colab_type": "text",
    "id": "Rg3NEsWKGC8K"
   },
   "source": [
    "Teste"
   ]
  },
  {
   "cell_type": "code",
   "execution_count": null,
   "metadata": {
    "colab": {
     "base_uri": "https://localhost:8080/",
     "height": 34
    },
    "colab_type": "code",
    "id": "MDJNQlfuGE6H",
    "outputId": "3baf3e00-51af-408b-f96a-83afb5834954"
   },
   "outputs": [],
   "source": [
    "from sklearn.metrics import mean_squared_error\n",
    "\n",
    "predictions_reg = modelo_reg.predict(test[atributos1])\n",
    "\n",
    "mse = mean_squared_error(test[classe1], predictions_reg)\n",
    "rmse = np.sqrt(mse)\n",
    "print(rmse)"
   ]
  },
  {
   "cell_type": "markdown",
   "metadata": {
    "colab_type": "text",
    "id": "CLYonVY6GIIr"
   },
   "source": [
    "###### Inferências"
   ]
  },
  {
   "cell_type": "code",
   "execution_count": null,
   "metadata": {
    "colab": {
     "base_uri": "https://localhost:8080/",
     "height": 119
    },
    "colab_type": "code",
    "id": "WMf9wg8fGHOU",
    "outputId": "0cbbebe4-43e9-46f8-eecb-99988f619425"
   },
   "outputs": [],
   "source": [
    "print ('Train - Min: ',train[classe1].min(),'Max: ',train[classe1].max())\n",
    "print ('Test - Min: ',test[classe1].min(),'Max: ',test[classe1].max())"
   ]
  },
  {
   "cell_type": "markdown",
   "metadata": {
    "colab_type": "text",
    "id": "hDXVFhZPGOO7"
   },
   "source": [
    "A métrica utilizada para avaliação a regressão foi a Raiz do Erro Quadrático Médio (RMSE):\n",
    "\n",
    "\n",
    "\n",
    "-------- Resultado do treinamento com validação cruzada (10-fold):\n",
    "\n",
    "Scores: [1.30331136 1.2983987  1.36542018 1.33253032 1.36155117 1.34250841\n",
    " 1.35735221 1.4366354  1.364619   1.30180169]\n",
    " \n",
    "Mean: 1.3464128458790345\n",
    "\n",
    "Standard deviation: 0.03942449829570117\n",
    "\n",
    "-------- Resultado do teste usando o modelo treinado:\n",
    "\n",
    "1.3141393465788482\n",
    "\n",
    "-------------------------------------------------------------------------------------------------------------------\n",
    "\n",
    "O RMSE indica a diferença entre o valor que foi previsto pelo modelo e o valor real que foi observado. Os valores de RMSE tanto no treinamento quanto na fase de teste foram relativamente baixos (em comparação com a escala de valores dos pontos do dataset)\n",
    "\n",
    "Além, disso o treinamento e teste tiveram resultados próximos, evidenciando qquenão houve problema relacionado a overfitting ou underfitting."
   ]
  }
 ],
 "metadata": {
  "colab": {
   "collapsed_sections": [],
   "name": "Trabalho - Cartola.ipynb",
   "provenance": [],
   "toc_visible": true,
   "version": "0.3.2"
  },
  "kernelspec": {
   "display_name": "Python 3",
   "language": "python",
   "name": "python3"
  },
  "language_info": {
   "codemirror_mode": {
    "name": "ipython",
    "version": 3
   },
   "file_extension": ".py",
   "mimetype": "text/x-python",
   "name": "python",
   "nbconvert_exporter": "python",
   "pygments_lexer": "ipython3",
   "version": "3.6.5"
  }
 },
 "nbformat": 4,
 "nbformat_minor": 1
}
